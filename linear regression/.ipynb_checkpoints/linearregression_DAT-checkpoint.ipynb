{
 "cells": [
  {
   "cell_type": "markdown",
   "metadata": {},
   "source": [
    "# ML\n",
    "Implementação do algoritmo de regressão linear\n"
   ]
  },
  {
   "cell_type": "markdown",
   "metadata": {},
   "source": [
    "Predição de preços de casas levando em consideração o tamanho e quantidade de quartos."
   ]
  },
  {
   "cell_type": "code",
   "execution_count": 19,
   "metadata": {
    "collapsed": true
   },
   "outputs": [],
   "source": [
    "import numpy as np\n",
    "import matplotlib.pyplot as plt\n",
    "import pandas as pd\n",
    "\n",
    "%matplotlib inline"
   ]
  },
  {
   "cell_type": "code",
   "execution_count": 77,
   "metadata": {
    "collapsed": false
   },
   "outputs": [
    {
     "name": "stdout",
     "output_type": "stream",
     "text": [
      "   Tamanho  Quartos  Preços\n",
      "0     2104        3  399900\n",
      "1     1600        3  329900\n",
      "2     2400        3  369000\n",
      "3     1416        2  232000\n",
      "4     3000        4  539900\n"
     ]
    }
   ],
   "source": [
    "data = pd.read_csv(\"data.csv\", names = ['Tamanho','Quartos','Preços'])\n",
    "print(data.head())\n"
   ]
  },
  {
   "cell_type": "code",
   "execution_count": 78,
   "metadata": {
    "collapsed": false,
    "scrolled": true
   },
   "outputs": [
    {
     "name": "stdout",
     "output_type": "stream",
     "text": [
      "(47, 2)\n"
     ]
    },
    {
     "data": {
      "text/plain": [
       "(47, 1)"
      ]
     },
     "execution_count": 78,
     "metadata": {},
     "output_type": "execute_result"
    }
   ],
   "source": [
    "X=data.iloc[:, 0:2].values\n",
    "y = data.iloc[:, 2:3].values\n",
    "print(X.shape)\n",
    "y.shape"
   ]
  },
  {
   "cell_type": "code",
   "execution_count": 70,
   "metadata": {
    "collapsed": false
   },
   "outputs": [],
   "source": [
    "def feature_scaling(X):\n",
    "    X_norm = X\n",
    "    mu = np.zeros([1, X.shape[1]])\n",
    "    sigma = np.zeros([1, X.shape[1]])\n",
    "    \n",
    "    print(mu.shape)\n",
    "    print(sigma.shape)\n",
    "    print(X_norm.shape)\n",
    "   \n",
    "    mu = np.mean(X, axis=0)\n",
    "    X_norm = X_norm - mu\n",
    "    sigma = np.std(X, axis = 0)\n",
    "    \n",
    "    X_norm = np.divide(X_norm,sigma)\n",
    "    #x_norm = np.divide((X - mu),sigma)\n",
    "    \n",
    "    \n",
    "    return X_norm,mu,sigma"
   ]
  },
  {
   "cell_type": "code",
   "execution_count": 79,
   "metadata": {
    "collapsed": false
   },
   "outputs": [
    {
     "name": "stdout",
     "output_type": "stream",
     "text": [
      "(1, 2)\n",
      "(1, 2)\n",
      "(47, 2)\n",
      "[[  1.31415422e-01  -2.26093368e-01]\n",
      " [ -5.09640698e-01  -2.26093368e-01]\n",
      " [  5.07908699e-01  -2.26093368e-01]\n",
      " [ -7.43677059e-01  -1.55439190e+00]\n",
      " [  1.27107075e+00   1.10220517e+00]\n",
      " [ -1.99450507e-02   1.10220517e+00]\n",
      " [ -5.93588523e-01  -2.26093368e-01]\n",
      " [ -7.29685755e-01  -2.26093368e-01]\n",
      " [ -7.89466782e-01  -2.26093368e-01]\n",
      " [ -6.44465993e-01  -2.26093368e-01]\n",
      " [ -7.71822042e-02   1.10220517e+00]\n",
      " [ -8.65999486e-04  -2.26093368e-01]\n",
      " [ -1.40779041e-01  -2.26093368e-01]\n",
      " [  3.15099326e+00   2.43050370e+00]\n",
      " [ -9.31923697e-01  -2.26093368e-01]\n",
      " [  3.80715024e-01   1.10220517e+00]\n",
      " [ -8.65782986e-01  -1.55439190e+00]\n",
      " [ -9.72625673e-01  -2.26093368e-01]\n",
      " [  7.73743478e-01   1.10220517e+00]\n",
      " [  1.31050078e+00   1.10220517e+00]\n",
      " [ -2.97227261e-01  -2.26093368e-01]\n",
      " [ -1.43322915e-01  -1.55439190e+00]\n",
      " [ -5.04552951e-01  -2.26093368e-01]\n",
      " [ -4.91995958e-02   1.10220517e+00]\n",
      " [  2.40309445e+00  -2.26093368e-01]\n",
      " [ -1.14560907e+00  -2.26093368e-01]\n",
      " [ -6.90255715e-01  -2.26093368e-01]\n",
      " [  6.68172729e-01  -2.26093368e-01]\n",
      " [  2.53521350e-01  -2.26093368e-01]\n",
      " [  8.09357707e-01  -2.26093368e-01]\n",
      " [ -2.05647815e-01  -1.55439190e+00]\n",
      " [ -1.27280274e+00  -2.88269044e+00]\n",
      " [  5.00114703e-02   1.10220517e+00]\n",
      " [  1.44532608e+00  -2.26093368e-01]\n",
      " [ -2.41262044e-01   1.10220517e+00]\n",
      " [ -7.16966387e-01  -2.26093368e-01]\n",
      " [ -9.68809863e-01  -2.26093368e-01]\n",
      " [  1.67029651e-01   1.10220517e+00]\n",
      " [  2.81647389e+00   1.10220517e+00]\n",
      " [  2.05187753e-01   1.10220517e+00]\n",
      " [ -4.28236746e-01  -1.55439190e+00]\n",
      " [  3.01854946e-01  -2.26093368e-01]\n",
      " [  7.20322135e-01   1.10220517e+00]\n",
      " [ -1.01841540e+00  -2.26093368e-01]\n",
      " [ -1.46104938e+00  -1.55439190e+00]\n",
      " [ -1.89112638e-01   1.10220517e+00]\n",
      " [ -1.01459959e+00  -2.26093368e-01]]\n"
     ]
    }
   ],
   "source": [
    "X,mu,sigma = feature_scaling(X)\n",
    "print(X)"
   ]
  },
  {
   "cell_type": "code",
   "execution_count": 90,
   "metadata": {
    "collapsed": false,
    "scrolled": false
   },
   "outputs": [
    {
     "name": "stdout",
     "output_type": "stream",
     "text": [
      "(3,)\n",
      "(47,)\n",
      "(47, 2)\n"
     ]
    }
   ],
   "source": [
    "#Transforma em arrays matematicos\n",
    "X = np.array(X)\n",
    "y = np.array(y).flatten()\n",
    "\n",
    "#pega valores de quantidade de exemplos e caracteristicas\n",
    "m,d = X.shape\n",
    "\n",
    "#instancia hyperparametros\n",
    "#instandia theta com dimensão d+1 por causa de theta 0\n",
    "theta = np.zeros(d+1)\n",
    "iterations = 100\n",
    "alpha = 1\n",
    "\n",
    "\n",
    "print(theta.shape)\n",
    "print(y.shape)\n",
    "print(X.shape)"
   ]
  },
  {
   "cell_type": "code",
   "execution_count": 91,
   "metadata": {
    "collapsed": true
   },
   "outputs": [],
   "source": [
    "#insere coluna de 1 como variavel nula na multiplicação e para generalizar algoritmo para N features\n",
    "X = np.insert(X,0,1,axis=1)"
   ]
  },
  {
   "cell_type": "code",
   "execution_count": 92,
   "metadata": {
    "collapsed": true
   },
   "outputs": [],
   "source": [
    "def cost_function(X, y, theta):\n",
    "#Funcao de custo, quanto menor o custo, melhor fit    \n",
    "    m = len(y) \n",
    "    \n",
    "    J = np.sum((X.dot(theta)-y)**2)/(2*m)\n",
    "    \n",
    "    return J"
   ]
  },
  {
   "cell_type": "code",
   "execution_count": 93,
   "metadata": {
    "collapsed": false
   },
   "outputs": [
    {
     "name": "stdout",
     "output_type": "stream",
     "text": [
      "65591548106.5\n"
     ]
    }
   ],
   "source": [
    "#verifica função de custo\n",
    "print(cost_function(X,y,theta))"
   ]
  },
  {
   "cell_type": "code",
   "execution_count": 95,
   "metadata": {
    "collapsed": true
   },
   "outputs": [],
   "source": [
    "def gradient_descent(X,y,theta, alpha, num_inters):\n",
    "#Funcao gradiente descendente, atualiza os thetas encontrando o minimo local    \n",
    "    j_cost = list()\n",
    "    print(m)\n",
    "    for i in range(num_inters):\n",
    "     \n",
    "        gradient = X.T.dot(((X.dot(theta))-y))/m\n",
    "        theta = theta - (alpha*gradient)\n",
    "        cost = cost_function(X, y, theta)\n",
    "        j_cost.append(cost)\n",
    "        \n",
    "       \n",
    "    \n",
    "    return theta, j_cost"
   ]
  },
  {
   "cell_type": "code",
   "execution_count": 96,
   "metadata": {
    "collapsed": false
   },
   "outputs": [
    {
     "name": "stdout",
     "output_type": "stream",
     "text": [
      "47\n"
     ]
    }
   ],
   "source": [
    "#Encontra os thetas para predict\n",
    "(t),(j) = gradient_descent(X,y,theta,alpha, iterations)"
   ]
  },
  {
   "cell_type": "code",
   "execution_count": 97,
   "metadata": {
    "collapsed": false
   },
   "outputs": [
    {
     "name": "stdout",
     "output_type": "stream",
     "text": [
      "compute of the theta:\n",
      "(3,)\n"
     ]
    },
    {
     "data": {
      "text/plain": [
       "array([ 340412.65957447,  109447.79646964,   -6578.35485416])"
      ]
     },
     "execution_count": 97,
     "metadata": {},
     "output_type": "execute_result"
    }
   ],
   "source": [
    "print(\"compute of the theta:\")\n",
    "print(t.shape)\n",
    "t"
   ]
  },
  {
   "cell_type": "code",
   "execution_count": 104,
   "metadata": {
    "collapsed": false
   },
   "outputs": [],
   "source": [
    "house = np.array([1650,3])\n",
    "house = house-mu\n",
    "house = np.divide(house,sigma)"
   ]
  },
  {
   "cell_type": "code",
   "execution_count": 105,
   "metadata": {
    "collapsed": false
   },
   "outputs": [],
   "source": [
    "house = np.insert(house, 0,1, axis = 0)\n"
   ]
  },
  {
   "cell_type": "code",
   "execution_count": 106,
   "metadata": {
    "collapsed": false
   },
   "outputs": [
    {
     "name": "stdout",
     "output_type": "stream",
     "text": [
      "[ 1.         -0.44604386 -0.22609337] (3,)\n"
     ]
    }
   ],
   "source": [
    "print(house,house.shape)\n"
   ]
  },
  {
   "cell_type": "code",
   "execution_count": 107,
   "metadata": {
    "collapsed": true
   },
   "outputs": [],
   "source": [
    "price = np.dot(house.T,t)"
   ]
  },
  {
   "cell_type": "code",
   "execution_count": 108,
   "metadata": {
    "collapsed": false
   },
   "outputs": [
    {
     "name": "stdout",
     "output_type": "stream",
     "text": [
      "293081.464335\n"
     ]
    }
   ],
   "source": [
    "print(price)"
   ]
  },
  {
   "cell_type": "code",
   "execution_count": 109,
   "metadata": {
    "collapsed": true
   },
   "outputs": [],
   "source": [
    "def eqnormal(X,y):\n",
    "    theta = np.zeros([X.shape[1],1])\n",
    "    \n",
    "    pinv = np.linalg.pinv(np.dot(X.T, X))\n",
    "    theta = np.dot(np.dot(pinv, X.T), y)\n",
    "    \n",
    "    return theta"
   ]
  },
  {
   "cell_type": "code",
   "execution_count": 110,
   "metadata": {
    "collapsed": true
   },
   "outputs": [],
   "source": [
    "X = np.array(data[['Tamanho','Quartos']])\n",
    "\n",
    "\n",
    "\n",
    "m,d = X.shape\n",
    "\n",
    "y = np.array(data['Preços'])\n",
    "\n",
    "\n",
    "theta = np.array([0,0,0])\n",
    "\n",
    "iterations = 50\n",
    "alpha = 0.1\n",
    "\n",
    "#X = feature_scaling(X)\n",
    "\n",
    "X = np.insert(X,0,1,axis=1)"
   ]
  },
  {
   "cell_type": "code",
   "execution_count": 111,
   "metadata": {
    "collapsed": false
   },
   "outputs": [],
   "source": [
    "theta = eqnormal(X,y)"
   ]
  },
  {
   "cell_type": "code",
   "execution_count": 112,
   "metadata": {
    "collapsed": true
   },
   "outputs": [],
   "source": [
    "price = np.dot(np.array([1,1650,3]),theta)"
   ]
  },
  {
   "cell_type": "code",
   "execution_count": 113,
   "metadata": {
    "collapsed": false
   },
   "outputs": [
    {
     "data": {
      "text/plain": [
       "293081.4643349892"
      ]
     },
     "execution_count": 113,
     "metadata": {},
     "output_type": "execute_result"
    }
   ],
   "source": [
    "price"
   ]
  }
 ],
 "metadata": {
  "anaconda-cloud": {},
  "kernelspec": {
   "display_name": "Python [default]",
   "language": "python",
   "name": "python3"
  },
  "language_info": {
   "codemirror_mode": {
    "name": "ipython",
    "version": 3
   },
   "file_extension": ".py",
   "mimetype": "text/x-python",
   "name": "python",
   "nbconvert_exporter": "python",
   "pygments_lexer": "ipython3",
   "version": "3.5.2"
  }
 },
 "nbformat": 4,
 "nbformat_minor": 1
}
