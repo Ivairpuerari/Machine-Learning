{
 "cells": [
  {
   "cell_type": "markdown",
   "metadata": {},
   "source": [
    "# ML\n",
    "Implementação do algoritmo de regressão linear\n"
   ]
  },
  {
   "cell_type": "markdown",
   "metadata": {},
   "source": [
    "Predição de lucro de um foodtruck levando em consideração a quantidade de habitantes na cidade."
   ]
  },
  {
   "cell_type": "code",
   "execution_count": 1,
   "metadata": {
    "collapsed": true
   },
   "outputs": [],
   "source": [
    "import numpy as np\n",
    "import matplotlib.pyplot as plt\n",
    "import pandas as pd\n",
    "\n",
    "%matplotlib inline"
   ]
  },
  {
   "cell_type": "code",
   "execution_count": 2,
   "metadata": {
    "collapsed": true
   },
   "outputs": [],
   "source": [
    "def cost_function(X, y, theta):\n",
    "   \n",
    "    j = np.sum((X.dot(theta)-y)**2)/(2*m)\n",
    "\n",
    "    return j"
   ]
  },
  {
   "cell_type": "code",
   "execution_count": 3,
   "metadata": {
    "collapsed": true
   },
   "outputs": [],
   "source": [
    "def gradient_descent(X,y,theta, alpha, num_inters):\n",
    "    j_cost = list()\n",
    "    for i in range(num_inters):\n",
    "     \n",
    "        gradient = X.T.dot(((X.dot(theta))-y))/m\n",
    "        theta = theta - (alpha*gradient)\n",
    "        cost = cost_function(X, y, theta)\n",
    "        j_cost.append(cost)\n",
    "        \n",
    "       \n",
    "    \n",
    "    return theta, j_cost"
   ]
  },
  {
   "cell_type": "code",
   "execution_count": 4,
   "metadata": {
    "collapsed": false
   },
   "outputs": [
    {
     "name": "stdout",
     "output_type": "stream",
     "text": [
      "   population   profit\n",
      "0      6.1101  17.5920\n",
      "1      5.5277   9.1302\n",
      "2      8.5186  13.6620\n",
      "3      7.0032  11.8540\n",
      "4      5.8598   6.8233\n"
     ]
    }
   ],
   "source": [
    "data = pd.read_csv('population.txt', names = ['population', 'profit'])\n",
    "print(data.head())\n"
   ]
  },
  {
   "cell_type": "code",
   "execution_count": 5,
   "metadata": {
    "collapsed": false,
    "scrolled": false
   },
   "outputs": [
    {
     "name": "stdout",
     "output_type": "stream",
     "text": [
      "[ 17.592     9.1302   13.662    11.854     6.8233   11.886     4.3483   12.\n",
      "   6.5987    3.8166    3.2522   15.505     3.1551    7.2258    0.71618\n",
      "   3.5129    5.3048    0.56077   3.6518    5.3893    3.1386   21.767\n",
      "   4.263     5.1875    3.0825   22.638    13.501     7.0467   14.692\n",
      "  24.147    -1.22      5.9966   12.134     1.8495    6.5426    4.5623\n",
      "   4.1164    3.3928   10.117     5.4974    0.55657   3.9115    5.3854\n",
      "   2.4406    6.7318    1.0463    5.1337    1.844     8.0043    1.0179\n",
      "   6.7504    1.8396    4.2885    4.9981    1.4233   -1.4211    2.4756\n",
      "   4.6042    3.9624    5.4141    5.1694   -0.74279  17.929    12.054\n",
      "  17.054     4.8852    5.7442    7.7754    1.0173   20.992     6.6799\n",
      "   4.0259    1.2784    3.3411   -2.6807    0.29678   3.8845    5.7014\n",
      "   6.7526    2.0576    0.47953   0.20421   0.67861   7.5435    5.3436\n",
      "   4.2415    6.7981    0.92695   0.152     2.8214    1.8451    4.2959\n",
      "   7.2029    1.9869    0.14454   9.0551    0.61705]\n"
     ]
    }
   ],
   "source": [
    "\n",
    "X = np.array(data[['population']])\n",
    "X = np.insert(X,0,1,axis=1)\n",
    "#print(X)\n",
    "\n",
    "m,d = X.shape\n",
    "\n",
    "y = np.array(data['profit'])\n",
    "theta = np.array([0, 0])\n",
    "iterations = 5000\n",
    "alpha = 0.01\n",
    "print(y)"
   ]
  },
  {
   "cell_type": "code",
   "execution_count": 6,
   "metadata": {
    "collapsed": false
   },
   "outputs": [
    {
     "data": {
      "text/plain": [
       "67"
      ]
     },
     "execution_count": 6,
     "metadata": {},
     "output_type": "execute_result"
    }
   ],
   "source": [
    "t_size = int(m*0.7)\n",
    "t_size"
   ]
  },
  {
   "cell_type": "code",
   "execution_count": 7,
   "metadata": {
    "collapsed": true
   },
   "outputs": [],
   "source": [
    "#em classificação deve se realizar o suffle\n",
    "Xtest = X[:t_size]\n",
    "Xtrain = X[t_size:]\n",
    "ytest = y[:t_size]\n",
    "ytrain = y[t_size:]"
   ]
  },
  {
   "cell_type": "code",
   "execution_count": 8,
   "metadata": {
    "collapsed": false
   },
   "outputs": [
    {
     "name": "stdout",
     "output_type": "stream",
     "text": [
      "32.0727338775\n"
     ]
    }
   ],
   "source": [
    "print(cost_function(X,y,theta))"
   ]
  },
  {
   "cell_type": "code",
   "execution_count": 9,
   "metadata": {
    "collapsed": false
   },
   "outputs": [
    {
     "name": "stdout",
     "output_type": "stream",
     "text": [
      "(97, 2)\n",
      "(97,)\n",
      "(2,)\n"
     ]
    }
   ],
   "source": [
    "print(X.shape)\n",
    "print(y.shape)\n",
    "print(theta.shape)\n",
    "\n",
    "#j_cost = None\n",
    "(t),(j) = gradient_descent(X,y,theta,alpha, iterations)\n"
   ]
  },
  {
   "cell_type": "code",
   "execution_count": 10,
   "metadata": {
    "collapsed": false
   },
   "outputs": [
    {
     "name": "stdout",
     "output_type": "stream",
     "text": [
      "compute of the theta:\n",
      "(2,)\n"
     ]
    },
    {
     "data": {
      "text/plain": [
       "array([-3.89530051,  1.19298539])"
      ]
     },
     "execution_count": 10,
     "metadata": {},
     "output_type": "execute_result"
    }
   ],
   "source": [
    "print(\"compute of the theta:\")\n",
    "print(t.shape)\n",
    "t"
   ]
  },
  {
   "cell_type": "code",
   "execution_count": 11,
   "metadata": {
    "collapsed": false
   },
   "outputs": [],
   "source": [
    "yhat = np.dot(X,t)\n"
   ]
  },
  {
   "cell_type": "code",
   "execution_count": 12,
   "metadata": {
    "collapsed": false
   },
   "outputs": [
    {
     "name": "stdout",
     "output_type": "stream",
     "text": [
      "[  3.3939595    2.69916481   6.2672648    4.45941474   3.09535525\n",
      "   6.10537668   5.02393543   6.33824743   3.8426413    2.13476342\n",
      "   2.91748113  13.0021445    2.94527769   6.13579781   2.83397216\n",
      "   2.52224508   3.69852867   2.22483382   3.77511833   4.54006056\n",
      "   3.48820534  20.28651326   2.65430856   3.65164434   2.74354386\n",
      "  18.70580763  11.40831602   9.17624036  11.82347494  22.59255402\n",
      "   2.37073593   3.96575739   7.13766694   3.13353079   5.90042179\n",
      "   5.56912975   5.76298988   2.79293346  11.4178599    3.68421284\n",
      "   2.55505217   4.31542141  10.07217239   2.99263921   5.43945224\n",
      "   4.56666413   2.15337399   3.02568491  10.06262851   2.7157473\n",
      "   5.1000479    2.43670802   4.9613037    5.17508668   3.65963734\n",
      "   3.69077426   3.5897284    2.83277917   7.21163203   7.38270613\n",
      "   6.63327272   2.2835287   21.49023552  13.88972562  18.72250942\n",
      "   4.7159066    6.00063257   8.3160979    2.66540332  20.37121523\n",
      "   8.19679936   4.8546508    3.27000832   4.72509259   2.10171773\n",
      "   3.9162485    5.09813912   2.11317039   8.36143135   2.19811095\n",
      "   2.93955136   2.29438487   3.68695671   7.75861583   3.87807297\n",
      "   6.26559462   7.05654393   3.26499778   2.69045601   2.14048975\n",
      "   2.91390218   5.21505169   3.1083588    2.43396416   5.99860449\n",
      "  12.08354575   2.59084173]\n",
      "[ 17.592     9.1302   13.662    11.854     6.8233   11.886     4.3483   12.\n",
      "   6.5987    3.8166    3.2522   15.505     3.1551    7.2258    0.71618\n",
      "   3.5129    5.3048    0.56077   3.6518    5.3893    3.1386   21.767\n",
      "   4.263     5.1875    3.0825   22.638    13.501     7.0467   14.692\n",
      "  24.147    -1.22      5.9966   12.134     1.8495    6.5426    4.5623\n",
      "   4.1164    3.3928   10.117     5.4974    0.55657   3.9115    5.3854\n",
      "   2.4406    6.7318    1.0463    5.1337    1.844     8.0043    1.0179\n",
      "   6.7504    1.8396    4.2885    4.9981    1.4233   -1.4211    2.4756\n",
      "   4.6042    3.9624    5.4141    5.1694   -0.74279  17.929    12.054\n",
      "  17.054     4.8852    5.7442    7.7754    1.0173   20.992     6.6799\n",
      "   4.0259    1.2784    3.3411   -2.6807    0.29678   3.8845    5.7014\n",
      "   6.7526    2.0576    0.47953   0.20421   0.67861   7.5435    5.3436\n",
      "   4.2415    6.7981    0.92695   0.152     2.8214    1.8451    4.2959\n",
      "   7.2029    1.9869    0.14454   9.0551    0.61705]\n"
     ]
    }
   ],
   "source": [
    "print(yhat)\n",
    "print(y)"
   ]
  }
 ],
 "metadata": {
  "anaconda-cloud": {},
  "kernelspec": {
   "display_name": "Python [default]",
   "language": "python",
   "name": "python3"
  },
  "language_info": {
   "codemirror_mode": {
    "name": "ipython",
    "version": 3
   },
   "file_extension": ".py",
   "mimetype": "text/x-python",
   "name": "python",
   "nbconvert_exporter": "python",
   "pygments_lexer": "ipython3",
   "version": "3.5.2"
  }
 },
 "nbformat": 4,
 "nbformat_minor": 1
}
