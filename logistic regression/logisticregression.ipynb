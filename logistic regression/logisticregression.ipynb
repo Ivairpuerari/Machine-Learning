{
 "cells": [
  {
   "cell_type": "markdown",
   "metadata": {},
   "source": [
    "## Logistic regression\n",
    "\n",
    "implementação do algoritmo regressão logistica"
   ]
  },
  {
   "cell_type": "markdown",
   "metadata": {},
   "source": [
    "Predição de resultados de vestibular, levando em conta dois exames, atribuindo valores Aprovado e Reprovado a alunos."
   ]
  },
  {
   "cell_type": "code",
   "execution_count": 1,
   "metadata": {
    "collapsed": false
   },
   "outputs": [],
   "source": [
    "import numpy as np\n",
    "import pandas as pd\n",
    "import matplotlib.pyplot as plt\n",
    "%matplotlib inline"
   ]
  },
  {
   "cell_type": "code",
   "execution_count": 2,
   "metadata": {
    "collapsed": false
   },
   "outputs": [
    {
     "data": {
      "text/html": [
       "<div>\n",
       "<table border=\"1\" class=\"dataframe\">\n",
       "  <thead>\n",
       "    <tr style=\"text-align: right;\">\n",
       "      <th></th>\n",
       "      <th>exam 1</th>\n",
       "      <th>exam 2</th>\n",
       "      <th>results</th>\n",
       "    </tr>\n",
       "  </thead>\n",
       "  <tbody>\n",
       "    <tr>\n",
       "      <th>0</th>\n",
       "      <td>34.623660</td>\n",
       "      <td>78.024693</td>\n",
       "      <td>0</td>\n",
       "    </tr>\n",
       "    <tr>\n",
       "      <th>1</th>\n",
       "      <td>30.286711</td>\n",
       "      <td>43.894998</td>\n",
       "      <td>0</td>\n",
       "    </tr>\n",
       "    <tr>\n",
       "      <th>2</th>\n",
       "      <td>35.847409</td>\n",
       "      <td>72.902198</td>\n",
       "      <td>0</td>\n",
       "    </tr>\n",
       "    <tr>\n",
       "      <th>3</th>\n",
       "      <td>60.182599</td>\n",
       "      <td>86.308552</td>\n",
       "      <td>1</td>\n",
       "    </tr>\n",
       "    <tr>\n",
       "      <th>4</th>\n",
       "      <td>79.032736</td>\n",
       "      <td>75.344376</td>\n",
       "      <td>1</td>\n",
       "    </tr>\n",
       "    <tr>\n",
       "      <th>5</th>\n",
       "      <td>45.083277</td>\n",
       "      <td>56.316372</td>\n",
       "      <td>0</td>\n",
       "    </tr>\n",
       "    <tr>\n",
       "      <th>6</th>\n",
       "      <td>61.106665</td>\n",
       "      <td>96.511426</td>\n",
       "      <td>1</td>\n",
       "    </tr>\n",
       "    <tr>\n",
       "      <th>7</th>\n",
       "      <td>75.024746</td>\n",
       "      <td>46.554014</td>\n",
       "      <td>1</td>\n",
       "    </tr>\n",
       "    <tr>\n",
       "      <th>8</th>\n",
       "      <td>76.098787</td>\n",
       "      <td>87.420570</td>\n",
       "      <td>1</td>\n",
       "    </tr>\n",
       "    <tr>\n",
       "      <th>9</th>\n",
       "      <td>84.432820</td>\n",
       "      <td>43.533393</td>\n",
       "      <td>1</td>\n",
       "    </tr>\n",
       "    <tr>\n",
       "      <th>10</th>\n",
       "      <td>95.861555</td>\n",
       "      <td>38.225278</td>\n",
       "      <td>0</td>\n",
       "    </tr>\n",
       "    <tr>\n",
       "      <th>11</th>\n",
       "      <td>75.013658</td>\n",
       "      <td>30.603263</td>\n",
       "      <td>0</td>\n",
       "    </tr>\n",
       "    <tr>\n",
       "      <th>12</th>\n",
       "      <td>82.307053</td>\n",
       "      <td>76.481963</td>\n",
       "      <td>1</td>\n",
       "    </tr>\n",
       "    <tr>\n",
       "      <th>13</th>\n",
       "      <td>69.364589</td>\n",
       "      <td>97.718692</td>\n",
       "      <td>1</td>\n",
       "    </tr>\n",
       "    <tr>\n",
       "      <th>14</th>\n",
       "      <td>39.538339</td>\n",
       "      <td>76.036811</td>\n",
       "      <td>0</td>\n",
       "    </tr>\n",
       "    <tr>\n",
       "      <th>15</th>\n",
       "      <td>53.971052</td>\n",
       "      <td>89.207350</td>\n",
       "      <td>1</td>\n",
       "    </tr>\n",
       "    <tr>\n",
       "      <th>16</th>\n",
       "      <td>69.070144</td>\n",
       "      <td>52.740470</td>\n",
       "      <td>1</td>\n",
       "    </tr>\n",
       "    <tr>\n",
       "      <th>17</th>\n",
       "      <td>67.946855</td>\n",
       "      <td>46.678574</td>\n",
       "      <td>0</td>\n",
       "    </tr>\n",
       "    <tr>\n",
       "      <th>18</th>\n",
       "      <td>70.661510</td>\n",
       "      <td>92.927138</td>\n",
       "      <td>1</td>\n",
       "    </tr>\n",
       "    <tr>\n",
       "      <th>19</th>\n",
       "      <td>76.978784</td>\n",
       "      <td>47.575964</td>\n",
       "      <td>1</td>\n",
       "    </tr>\n",
       "    <tr>\n",
       "      <th>20</th>\n",
       "      <td>67.372028</td>\n",
       "      <td>42.838438</td>\n",
       "      <td>0</td>\n",
       "    </tr>\n",
       "    <tr>\n",
       "      <th>21</th>\n",
       "      <td>89.676776</td>\n",
       "      <td>65.799366</td>\n",
       "      <td>1</td>\n",
       "    </tr>\n",
       "    <tr>\n",
       "      <th>22</th>\n",
       "      <td>50.534788</td>\n",
       "      <td>48.855812</td>\n",
       "      <td>0</td>\n",
       "    </tr>\n",
       "    <tr>\n",
       "      <th>23</th>\n",
       "      <td>34.212061</td>\n",
       "      <td>44.209529</td>\n",
       "      <td>0</td>\n",
       "    </tr>\n",
       "    <tr>\n",
       "      <th>24</th>\n",
       "      <td>77.924091</td>\n",
       "      <td>68.972360</td>\n",
       "      <td>1</td>\n",
       "    </tr>\n",
       "    <tr>\n",
       "      <th>25</th>\n",
       "      <td>62.271014</td>\n",
       "      <td>69.954458</td>\n",
       "      <td>1</td>\n",
       "    </tr>\n",
       "    <tr>\n",
       "      <th>26</th>\n",
       "      <td>80.190181</td>\n",
       "      <td>44.821629</td>\n",
       "      <td>1</td>\n",
       "    </tr>\n",
       "    <tr>\n",
       "      <th>27</th>\n",
       "      <td>93.114389</td>\n",
       "      <td>38.800670</td>\n",
       "      <td>0</td>\n",
       "    </tr>\n",
       "    <tr>\n",
       "      <th>28</th>\n",
       "      <td>61.830206</td>\n",
       "      <td>50.256108</td>\n",
       "      <td>0</td>\n",
       "    </tr>\n",
       "    <tr>\n",
       "      <th>29</th>\n",
       "      <td>38.785804</td>\n",
       "      <td>64.995681</td>\n",
       "      <td>0</td>\n",
       "    </tr>\n",
       "    <tr>\n",
       "      <th>...</th>\n",
       "      <td>...</td>\n",
       "      <td>...</td>\n",
       "      <td>...</td>\n",
       "    </tr>\n",
       "    <tr>\n",
       "      <th>70</th>\n",
       "      <td>32.722833</td>\n",
       "      <td>43.307173</td>\n",
       "      <td>0</td>\n",
       "    </tr>\n",
       "    <tr>\n",
       "      <th>71</th>\n",
       "      <td>64.039320</td>\n",
       "      <td>78.031688</td>\n",
       "      <td>1</td>\n",
       "    </tr>\n",
       "    <tr>\n",
       "      <th>72</th>\n",
       "      <td>72.346494</td>\n",
       "      <td>96.227593</td>\n",
       "      <td>1</td>\n",
       "    </tr>\n",
       "    <tr>\n",
       "      <th>73</th>\n",
       "      <td>60.457886</td>\n",
       "      <td>73.094998</td>\n",
       "      <td>1</td>\n",
       "    </tr>\n",
       "    <tr>\n",
       "      <th>74</th>\n",
       "      <td>58.840956</td>\n",
       "      <td>75.858448</td>\n",
       "      <td>1</td>\n",
       "    </tr>\n",
       "    <tr>\n",
       "      <th>75</th>\n",
       "      <td>99.827858</td>\n",
       "      <td>72.369252</td>\n",
       "      <td>1</td>\n",
       "    </tr>\n",
       "    <tr>\n",
       "      <th>76</th>\n",
       "      <td>47.264269</td>\n",
       "      <td>88.475865</td>\n",
       "      <td>1</td>\n",
       "    </tr>\n",
       "    <tr>\n",
       "      <th>77</th>\n",
       "      <td>50.458160</td>\n",
       "      <td>75.809860</td>\n",
       "      <td>1</td>\n",
       "    </tr>\n",
       "    <tr>\n",
       "      <th>78</th>\n",
       "      <td>60.455556</td>\n",
       "      <td>42.508409</td>\n",
       "      <td>0</td>\n",
       "    </tr>\n",
       "    <tr>\n",
       "      <th>79</th>\n",
       "      <td>82.226662</td>\n",
       "      <td>42.719879</td>\n",
       "      <td>0</td>\n",
       "    </tr>\n",
       "    <tr>\n",
       "      <th>80</th>\n",
       "      <td>88.913896</td>\n",
       "      <td>69.803789</td>\n",
       "      <td>1</td>\n",
       "    </tr>\n",
       "    <tr>\n",
       "      <th>81</th>\n",
       "      <td>94.834507</td>\n",
       "      <td>45.694307</td>\n",
       "      <td>1</td>\n",
       "    </tr>\n",
       "    <tr>\n",
       "      <th>82</th>\n",
       "      <td>67.319257</td>\n",
       "      <td>66.589353</td>\n",
       "      <td>1</td>\n",
       "    </tr>\n",
       "    <tr>\n",
       "      <th>83</th>\n",
       "      <td>57.238706</td>\n",
       "      <td>59.514282</td>\n",
       "      <td>1</td>\n",
       "    </tr>\n",
       "    <tr>\n",
       "      <th>84</th>\n",
       "      <td>80.366756</td>\n",
       "      <td>90.960148</td>\n",
       "      <td>1</td>\n",
       "    </tr>\n",
       "    <tr>\n",
       "      <th>85</th>\n",
       "      <td>68.468522</td>\n",
       "      <td>85.594307</td>\n",
       "      <td>1</td>\n",
       "    </tr>\n",
       "    <tr>\n",
       "      <th>86</th>\n",
       "      <td>42.075455</td>\n",
       "      <td>78.844786</td>\n",
       "      <td>0</td>\n",
       "    </tr>\n",
       "    <tr>\n",
       "      <th>87</th>\n",
       "      <td>75.477702</td>\n",
       "      <td>90.424539</td>\n",
       "      <td>1</td>\n",
       "    </tr>\n",
       "    <tr>\n",
       "      <th>88</th>\n",
       "      <td>78.635424</td>\n",
       "      <td>96.647427</td>\n",
       "      <td>1</td>\n",
       "    </tr>\n",
       "    <tr>\n",
       "      <th>89</th>\n",
       "      <td>52.348004</td>\n",
       "      <td>60.769505</td>\n",
       "      <td>0</td>\n",
       "    </tr>\n",
       "    <tr>\n",
       "      <th>90</th>\n",
       "      <td>94.094331</td>\n",
       "      <td>77.159105</td>\n",
       "      <td>1</td>\n",
       "    </tr>\n",
       "    <tr>\n",
       "      <th>91</th>\n",
       "      <td>90.448551</td>\n",
       "      <td>87.508792</td>\n",
       "      <td>1</td>\n",
       "    </tr>\n",
       "    <tr>\n",
       "      <th>92</th>\n",
       "      <td>55.482161</td>\n",
       "      <td>35.570703</td>\n",
       "      <td>0</td>\n",
       "    </tr>\n",
       "    <tr>\n",
       "      <th>93</th>\n",
       "      <td>74.492692</td>\n",
       "      <td>84.845137</td>\n",
       "      <td>1</td>\n",
       "    </tr>\n",
       "    <tr>\n",
       "      <th>94</th>\n",
       "      <td>89.845807</td>\n",
       "      <td>45.358284</td>\n",
       "      <td>1</td>\n",
       "    </tr>\n",
       "    <tr>\n",
       "      <th>95</th>\n",
       "      <td>83.489163</td>\n",
       "      <td>48.380286</td>\n",
       "      <td>1</td>\n",
       "    </tr>\n",
       "    <tr>\n",
       "      <th>96</th>\n",
       "      <td>42.261701</td>\n",
       "      <td>87.103851</td>\n",
       "      <td>1</td>\n",
       "    </tr>\n",
       "    <tr>\n",
       "      <th>97</th>\n",
       "      <td>99.315009</td>\n",
       "      <td>68.775409</td>\n",
       "      <td>1</td>\n",
       "    </tr>\n",
       "    <tr>\n",
       "      <th>98</th>\n",
       "      <td>55.340018</td>\n",
       "      <td>64.931938</td>\n",
       "      <td>1</td>\n",
       "    </tr>\n",
       "    <tr>\n",
       "      <th>99</th>\n",
       "      <td>74.775893</td>\n",
       "      <td>89.529813</td>\n",
       "      <td>1</td>\n",
       "    </tr>\n",
       "  </tbody>\n",
       "</table>\n",
       "<p>100 rows × 3 columns</p>\n",
       "</div>"
      ],
      "text/plain": [
       "       exam 1     exam 2  results\n",
       "0   34.623660  78.024693        0\n",
       "1   30.286711  43.894998        0\n",
       "2   35.847409  72.902198        0\n",
       "3   60.182599  86.308552        1\n",
       "4   79.032736  75.344376        1\n",
       "5   45.083277  56.316372        0\n",
       "6   61.106665  96.511426        1\n",
       "7   75.024746  46.554014        1\n",
       "8   76.098787  87.420570        1\n",
       "9   84.432820  43.533393        1\n",
       "10  95.861555  38.225278        0\n",
       "11  75.013658  30.603263        0\n",
       "12  82.307053  76.481963        1\n",
       "13  69.364589  97.718692        1\n",
       "14  39.538339  76.036811        0\n",
       "15  53.971052  89.207350        1\n",
       "16  69.070144  52.740470        1\n",
       "17  67.946855  46.678574        0\n",
       "18  70.661510  92.927138        1\n",
       "19  76.978784  47.575964        1\n",
       "20  67.372028  42.838438        0\n",
       "21  89.676776  65.799366        1\n",
       "22  50.534788  48.855812        0\n",
       "23  34.212061  44.209529        0\n",
       "24  77.924091  68.972360        1\n",
       "25  62.271014  69.954458        1\n",
       "26  80.190181  44.821629        1\n",
       "27  93.114389  38.800670        0\n",
       "28  61.830206  50.256108        0\n",
       "29  38.785804  64.995681        0\n",
       "..        ...        ...      ...\n",
       "70  32.722833  43.307173        0\n",
       "71  64.039320  78.031688        1\n",
       "72  72.346494  96.227593        1\n",
       "73  60.457886  73.094998        1\n",
       "74  58.840956  75.858448        1\n",
       "75  99.827858  72.369252        1\n",
       "76  47.264269  88.475865        1\n",
       "77  50.458160  75.809860        1\n",
       "78  60.455556  42.508409        0\n",
       "79  82.226662  42.719879        0\n",
       "80  88.913896  69.803789        1\n",
       "81  94.834507  45.694307        1\n",
       "82  67.319257  66.589353        1\n",
       "83  57.238706  59.514282        1\n",
       "84  80.366756  90.960148        1\n",
       "85  68.468522  85.594307        1\n",
       "86  42.075455  78.844786        0\n",
       "87  75.477702  90.424539        1\n",
       "88  78.635424  96.647427        1\n",
       "89  52.348004  60.769505        0\n",
       "90  94.094331  77.159105        1\n",
       "91  90.448551  87.508792        1\n",
       "92  55.482161  35.570703        0\n",
       "93  74.492692  84.845137        1\n",
       "94  89.845807  45.358284        1\n",
       "95  83.489163  48.380286        1\n",
       "96  42.261701  87.103851        1\n",
       "97  99.315009  68.775409        1\n",
       "98  55.340018  64.931938        1\n",
       "99  74.775893  89.529813        1\n",
       "\n",
       "[100 rows x 3 columns]"
      ]
     },
     "execution_count": 2,
     "metadata": {},
     "output_type": "execute_result"
    }
   ],
   "source": [
    "#Leitura do dataset\n",
    "data = pd.read_csv('data.txt', names = [\"exam 1\", 'exam 2', 'results'], delimiter=',')\n"
   ]
  },
  {
   "cell_type": "code",
   "execution_count": 3,
   "metadata": {
    "collapsed": false
   },
   "outputs": [],
   "source": [
    "#Criação dos arrays\n",
    "X = data.iloc[:,0:2].values\n",
    "y = data.iloc[:,2:3].values\n",
    "theta = np.array([0,0,0])\n"
   ]
  },
  {
   "cell_type": "code",
   "execution_count": 6,
   "metadata": {
    "collapsed": false
   },
   "outputs": [
    {
     "name": "stdout",
     "output_type": "stream",
     "text": [
      "(100, 2) (100, 1) (3,)\n"
     ]
    }
   ],
   "source": [
    "#verifica dimensões\n",
    "print(X.shape,y.shape,theta.shape)"
   ]
  },
  {
   "cell_type": "code",
   "execution_count": 7,
   "metadata": {
    "collapsed": true
   },
   "outputs": [],
   "source": [
    "#Numero de exemplos e caracteristicas\n",
    "m,d = X.shape"
   ]
  },
  {
   "cell_type": "code",
   "execution_count": 8,
   "metadata": {
    "collapsed": true
   },
   "outputs": [],
   "source": [
    "#Plota exemplos de reprovação e aprovação\n",
    "def plot_data(X,y):\n",
    "    positive =  np.where(y == 1)\n",
    "    negative = np.where(y == 0)\n",
    "    plt.scatter(X[positive,0],X[positive,1],linewidth = 2.0, color = 'b', marker = 'x', label = 'Reprovados')\n",
    "    plt.scatter(X[negative,0],X[negative,1],linewidth = 2.0, color = 'y', marker = 'x', label = 'Aprovados')\n",
    "    plt.legend()"
   ]
  },
  {
   "cell_type": "code",
   "execution_count": 9,
   "metadata": {
    "collapsed": false
   },
   "outputs": [
    {
     "data": {
      "image/png": "[encoded data removed]",
      "text/plain": [
       "<matplotlib.figure.Figure at 0x7fc81fdf9208>"
      ]
     },
     "metadata": {},
     "output_type": "display_data"
    }
   ],
   "source": [
    "plot_data(X,y)"
   ]
  },
  {
   "cell_type": "code",
   "execution_count": 10,
   "metadata": {
    "collapsed": true
   },
   "outputs": [],
   "source": [
    "#insert 1\n",
    "X = np.insert(X,0,1, axis = 1)"
   ]
  },
  {
   "cell_type": "code",
   "execution_count": 11,
   "metadata": {
    "collapsed": true
   },
   "outputs": [],
   "source": [
    "#Função sigmoid\n",
    "def sigmoid(z):\n",
    "    return (1/(1+np.power(np.math.e,-z)))"
   ]
  },
  {
   "cell_type": "code",
   "execution_count": 12,
   "metadata": {
    "collapsed": false
   },
   "outputs": [
    {
     "name": "stdout",
     "output_type": "stream",
     "text": [
      "[ 0.5  0.5  0.5  0.5  0.5  0.5  0.5  0.5  0.5  0.5  0.5  0.5  0.5  0.5  0.5\n",
      "  0.5  0.5  0.5  0.5  0.5  0.5  0.5  0.5  0.5  0.5  0.5  0.5  0.5  0.5  0.5\n",
      "  0.5  0.5  0.5  0.5  0.5  0.5  0.5  0.5  0.5  0.5  0.5  0.5  0.5  0.5  0.5\n",
      "  0.5  0.5  0.5  0.5  0.5  0.5  0.5  0.5  0.5  0.5  0.5  0.5  0.5  0.5  0.5\n",
      "  0.5  0.5  0.5  0.5  0.5  0.5  0.5  0.5  0.5  0.5  0.5  0.5  0.5  0.5  0.5\n",
      "  0.5  0.5  0.5  0.5  0.5  0.5  0.5  0.5  0.5  0.5  0.5  0.5  0.5  0.5  0.5\n",
      "  0.5  0.5  0.5  0.5  0.5  0.5  0.5  0.5  0.5  0.5]\n"
     ]
    }
   ],
   "source": [
    "print(sigmoid(X.dot(theta)))"
   ]
  },
  {
   "cell_type": "code",
   "execution_count": 13,
   "metadata": {
    "collapsed": false
   },
   "outputs": [],
   "source": [
    "#Função de custo\n",
    "def cost_function(theta,X,y):\n",
    "    h = sigmoid(X.dot(theta))\n",
    "    \n",
    "    j = ((-y.T.dot(np.log(h))) - ((1 - y).T.dot(np.log(1 - h))))/m\n",
    "    \n",
    "    return j\n",
    "        "
   ]
  },
  {
   "cell_type": "code",
   "execution_count": 14,
   "metadata": {
    "collapsed": false
   },
   "outputs": [
    {
     "name": "stdout",
     "output_type": "stream",
     "text": [
      "[ 0.69314718]\n"
     ]
    }
   ],
   "source": [
    "print(cost_function(theta,X,y))"
   ]
  },
  {
   "cell_type": "code",
   "execution_count": 15,
   "metadata": {
    "collapsed": false
   },
   "outputs": [],
   "source": [
    "#Função de hipotese \n",
    "def hypotese(X,theta):        \n",
    "    return sigmoid(X.dot(theta))"
   ]
  },
  {
   "cell_type": "code",
   "execution_count": 16,
   "metadata": {
    "collapsed": true
   },
   "outputs": [],
   "source": [
    "#Função de update buscando os parametros sem utilizar gradiente descendente\n",
    "import scipy.optimize as opt  \n",
    "def optimize(theta,X,y):\n",
    "    result = opt.fmin(cost_function, x0=theta, args=(X, y), maxiter=400, full_output=True)\n",
    "    \n",
    "    return result[0], result[1]\n"
   ]
  },
  {
   "cell_type": "code",
   "execution_count": 17,
   "metadata": {
    "collapsed": false
   },
   "outputs": [
    {
     "name": "stdout",
     "output_type": "stream",
     "text": [
      "Optimization terminated successfully.\n",
      "         Current function value: 0.203498\n",
      "         Iterations: 157\n",
      "         Function evaluations: 287\n"
     ]
    }
   ],
   "source": [
    "theta, mincost = optimize(theta,X,y)"
   ]
  },
  {
   "cell_type": "code",
   "execution_count": 18,
   "metadata": {
    "collapsed": false
   },
   "outputs": [
    {
     "name": "stdout",
     "output_type": "stream",
     "text": [
      "[ 0.2034977]\n"
     ]
    }
   ],
   "source": [
    "print(cost_function(theta,X,y))"
   ]
  },
  {
   "cell_type": "code",
   "execution_count": 19,
   "metadata": {
    "collapsed": false
   },
   "outputs": [],
   "source": [
    "#Predição de um aluno com 45 exam 1 e 85 in exam 2 e.g. Aprovado\n",
    "yhat = hypotese(theta,np.array([1, 45.,85.]))\n",
    "print(yhat)"
   ]
  },
  {
   "cell_type": "code",
   "execution_count": 34,
   "metadata": {
    "collapsed": false
   },
   "outputs": [],
   "source": [
    "#predita dataset com o thetas encontrados na função optimize\n",
    "def predict(X, theta):\n",
    "    return sigmoid(X.dot(theta)) > 0.5\n",
    "\n",
    "p = predict(X,theta)"
   ]
  },
  {
   "cell_type": "code",
   "execution_count": 31,
   "metadata": {
    "collapsed": false
   },
   "outputs": [
    {
     "name": "stdout",
     "output_type": "stream",
     "text": [
      "(1, 60) (1, 40)\n",
      "55 34\n",
      "0.89\n"
     ]
    }
   ],
   "source": [
    "#Taxa de aprendizagem no dataset, acurracia\n",
    "pos = np.array([ [X[i] for i in range(m) if y[i] == 1]])\n",
    "neg = np.array([ [X[i] for i in range(m) if y[i] == 0] ])\n",
    "print(predict(pos,theta).shape,predict(neg,theta).shape)\n",
    "positivo = np.sum(predict(pos,theta))\n",
    "negativo = np.sum(np.invert(predict(neg,theta)))\n",
    "\n",
    "print(np.sum(predict(pos,theta)),np.sum(np.invert(predict(neg,theta))))\n",
    "rate_accept = float(positivo+negativo)/m\n",
    "print(rate_accept)"
   ]
  }
 ],
 "metadata": {
  "anaconda-cloud": {},
  "kernelspec": {
   "display_name": "Python [default]",
   "language": "python",
   "name": "python3"
  },
  "language_info": {
   "codemirror_mode": {
    "name": "ipython",
    "version": 3
   },
   "file_extension": ".py",
   "mimetype": "text/x-python",
   "name": "python",
   "nbconvert_exporter": "python",
   "pygments_lexer": "ipython3",
   "version": "3.5.2"
  }
 },
 "nbformat": 4,
 "nbformat_minor": 1
}
